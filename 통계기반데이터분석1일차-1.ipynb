{
  "nbformat": 4,
  "nbformat_minor": 0,
  "metadata": {
    "colab": {
      "provenance": [],
      "authorship_tag": "ABX9TyNRW9lS6+B+QOe+XV5lUVom"
    },
    "kernelspec": {
      "name": "python3",
      "display_name": "Python 3"
    },
    "language_info": {
      "name": "python"
    }
  },
  "cells": [
    {
      "cell_type": "code",
      "execution_count": null,
      "metadata": {
        "id": "1oLzuB_X1YYw"
      },
      "outputs": [],
      "source": [
        "import pandas as pd\n",
        "import matplotlib.pyplot as plt\n"
      ]
    },
    {
      "cell_type": "code",
      "source": [
        "data = pd.read_csv(\"/content/BlackFriday.csv\")\n",
        "print(data)"
      ],
      "metadata": {
        "colab": {
          "base_uri": "https://localhost:8080/"
        },
        "id": "MVc_fEaY1ba1",
        "outputId": "79fd892c-bca1-4678-8f9f-e4a3da5fa0ce"
      },
      "execution_count": null,
      "outputs": [
        {
          "output_type": "stream",
          "name": "stdout",
          "text": [
            "        User_ID Product_ID Gender    Age  Occupation City_Category  \\\n",
            "0       1000001  P00069042      F   0-17        10.0             A   \n",
            "1       1000001  P00248942      F   0-17        10.0             A   \n",
            "2       1000001  P00087842      F   0-17        10.0             A   \n",
            "3       1000001  P00085442      F   0-17        10.0             A   \n",
            "4       1000002  P00285442      M    55+        16.0             C   \n",
            "...         ...        ...    ...    ...         ...           ...   \n",
            "158101  1000425  P00120342      M  26-35        12.0             B   \n",
            "158102  1000426  P00085342      M  18-25         4.0             A   \n",
            "158103  1000426  P00338442      M  18-25         4.0             A   \n",
            "158104  1000426  P00294242      M  18-25         4.0             A   \n",
            "158105  1000426        NaN    NaN    NaN         NaN           NaN   \n",
            "\n",
            "       Stay_In_Current_City_Years  Marital_Status  Product_Category_1  \\\n",
            "0                               2             0.0                 3.0   \n",
            "1                               2             0.0                 1.0   \n",
            "2                               2             0.0                12.0   \n",
            "3                               2             0.0                12.0   \n",
            "4                              4+             0.0                 8.0   \n",
            "...                           ...             ...                 ...   \n",
            "158101                          1             1.0                 5.0   \n",
            "158102                          1             1.0                10.0   \n",
            "158103                          1             1.0                 1.0   \n",
            "158104                          1             1.0                 4.0   \n",
            "158105                        NaN             NaN                 NaN   \n",
            "\n",
            "        Product_Category_2  Product_Category_3  Purchase  \n",
            "0                      NaN                 NaN    8370.0  \n",
            "1                      6.0                14.0   15200.0  \n",
            "2                      NaN                 NaN    1422.0  \n",
            "3                     14.0                 NaN    1057.0  \n",
            "4                      NaN                 NaN    7969.0  \n",
            "...                    ...                 ...       ...  \n",
            "158101                17.0                 NaN    7167.0  \n",
            "158102                13.0                 NaN   23215.0  \n",
            "158103                16.0                 NaN   11524.0  \n",
            "158104                 5.0                 NaN    2183.0  \n",
            "158105                 NaN                 NaN       NaN  \n",
            "\n",
            "[158106 rows x 12 columns]\n"
          ]
        }
      ]
    },
    {
      "cell_type": "code",
      "source": [
        "user_total_spent = data.groupby('User_ID')[\"Purchase\"].sum()"
      ],
      "metadata": {
        "id": "GySoE-s91bct"
      },
      "execution_count": null,
      "outputs": []
    },
    {
      "cell_type": "code",
      "source": [
        "# 히스토그램그릭\n",
        "plt.hist(user_total_spent, bins=50)\n",
        "plt.title('Histogram of Total Purchase Amount by User')\n",
        "plt.xlabel('Total Purchase Amount')\n",
        "plt.ylabel('Frequency')\n",
        "plt.show()"
      ],
      "metadata": {
        "colab": {
          "base_uri": "https://localhost:8080/",
          "height": 472
        },
        "id": "4BhSBkQu1bfA",
        "outputId": "23ae3cf9-4d54-43a5-d109-8fe31db36e4b"
      },
      "execution_count": null,
      "outputs": [
        {
          "output_type": "display_data",
          "data": {
            "text/plain": [
              "<Figure size 640x480 with 1 Axes>"
            ],
            "image/png": "[encoded data removed]"
          },
          "metadata": {}
        }
      ]
    },
    {
      "cell_type": "code",
      "source": [],
      "metadata": {
        "id": "8bcvnNH71bg4"
      },
      "execution_count": null,
      "outputs": []
    },
    {
      "cell_type": "code",
      "source": [],
      "metadata": {
        "id": "jO-qN3781bjL"
      },
      "execution_count": null,
      "outputs": []
    },
    {
      "cell_type": "code",
      "source": [],
      "metadata": {
        "id": "r0QA4hgv1blC"
      },
      "execution_count": null,
      "outputs": []
    },
    {
      "cell_type": "code",
      "source": [],
      "metadata": {
        "id": "nP1C492t1bnC"
      },
      "execution_count": null,
      "outputs": []
    },
    {
      "cell_type": "code",
      "source": [],
      "metadata": {
        "id": "RMk86u871bo9"
      },
      "execution_count": null,
      "outputs": []
    },
    {
      "cell_type": "code",
      "source": [],
      "metadata": {
        "id": "KQLLixVT1brJ"
      },
      "execution_count": null,
      "outputs": []
    }
  ]
}