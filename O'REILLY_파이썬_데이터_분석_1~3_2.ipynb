{
  "nbformat": 4,
  "nbformat_minor": 0,
  "metadata": {
    "colab": {
      "provenance": [],
      "authorship_tag": "ABX9TyMDA8X5U0Sk1OfcCOUtZAF6",
      "include_colab_link": true
    },
    "kernelspec": {
      "name": "python3",
      "display_name": "Python 3"
    },
    "language_info": {
      "name": "python"
    }
  },
  "cells": [
    {
      "cell_type": "markdown",
      "metadata": {
        "id": "view-in-github",
        "colab_type": "text"
      },
      "source": [
        "<a href=\"https://colab.research.google.com/github/dlvvkfl88/CS-Knowldege/blob/main/O'REILLY_%ED%8C%8C%EC%9D%B4%EC%8D%AC_%EB%8D%B0%EC%9D%B4%ED%84%B0_%EB%B6%84%EC%84%9D_1~3_2.ipynb\" target=\"_parent\"><img src=\"https://colab.research.google.com/assets/colab-badge.svg\" alt=\"Open In Colab\"/></a>"
      ]
    },
    {
      "cell_type": "markdown",
      "source": [
        "# 3장 정렬"
      ],
      "metadata": {
        "id": "hvUc0kxHW2Ak"
      }
    },
    {
      "cell_type": "code",
      "execution_count": null,
      "metadata": {
        "id": "qlW2B-svDpXj",
        "colab": {
          "base_uri": "https://localhost:8080/"
        },
        "outputId": "cc8ebafd-6de8-468f-9bb9-7188f664a17a"
      },
      "outputs": [
        {
          "output_type": "stream",
          "name": "stdout",
          "text": [
            "[1, 2, 3, 5, 7]\n"
          ]
        }
      ],
      "source": [
        "a = [7,2,5,1,3]\n",
        "\n",
        "a.sort()\n",
        "\n",
        "print(a) # 오름차순"
      ]
    },
    {
      "cell_type": "code",
      "source": [
        "b = ['saw','small','He','foxes', 'six']\n",
        "b.sort(key=len)\n",
        "\n",
        "b # 길이 짧은것부터 오름차순으로"
      ],
      "metadata": {
        "id": "Aa8kY7oWDwyF",
        "colab": {
          "base_uri": "https://localhost:8080/"
        },
        "outputId": "e0011098-e86d-45d9-b688-f4053312e12c"
      },
      "execution_count": null,
      "outputs": [
        {
          "output_type": "execute_result",
          "data": {
            "text/plain": [
              "['He', 'saw', 'six', 'small', 'foxes']"
            ]
          },
          "metadata": {},
          "execution_count": 3
        }
      ]
    },
    {
      "cell_type": "markdown",
      "source": [
        "# 이진 탐색과 정렬된 리스트 유지하기"
      ],
      "metadata": {
        "id": "bKmCYKkuXP_Q"
      }
    },
    {
      "cell_type": "code",
      "source": [
        "import bisect"
      ],
      "metadata": {
        "id": "Y0z1-_3mDw0k"
      },
      "execution_count": null,
      "outputs": []
    },
    {
      "cell_type": "markdown",
      "source": [
        "## 내장 순차 자료형 함수"
      ],
      "metadata": {
        "id": "eKld_tTTfrrp"
      }
    },
    {
      "cell_type": "code",
      "source": [
        "i = 0\n",
        "for value in colle"
      ],
      "metadata": {
        "id": "W52_jAEuDw2b"
      },
      "execution_count": null,
      "outputs": []
    },
    {
      "cell_type": "code",
      "source": [
        "list(reversed(range(10)))"
      ],
      "metadata": {
        "id": "fC9B3gxSDw4Y",
        "colab": {
          "base_uri": "https://localhost:8080/"
        },
        "outputId": "22a0b3a2-fc77-4024-af48-9d9cc47db2a5"
      },
      "execution_count": null,
      "outputs": [
        {
          "output_type": "execute_result",
          "data": {
            "text/plain": [
              "[9, 8, 7, 6, 5, 4, 3, 2, 1, 0]"
            ]
          },
          "metadata": {},
          "execution_count": 1
        }
      ]
    },
    {
      "cell_type": "markdown",
      "source": [
        "## 사전"
      ],
      "metadata": {
        "id": "ipT8855WgF1w"
      }
    },
    {
      "cell_type": "code",
      "source": [
        "empty_dict ={}\n",
        "\n",
        "d1 = {'a':'some value', 'b':[1,2,3,4]}\n",
        "\n",
        "d1"
      ],
      "metadata": {
        "id": "RpYLJUWdDw6W",
        "colab": {
          "base_uri": "https://localhost:8080/"
        },
        "outputId": "84917466-82d9-4778-99b7-4c28ef226b48"
      },
      "execution_count": null,
      "outputs": [
        {
          "output_type": "execute_result",
          "data": {
            "text/plain": [
              "{'a': 'some value', 'b': [1, 2, 3, 4]}"
            ]
          },
          "metadata": {},
          "execution_count": 2
        }
      ]
    },
    {
      "cell_type": "code",
      "source": [
        "d1[7] = 'an integer'\n",
        "\n",
        "d1"
      ],
      "metadata": {
        "id": "fDFi3a29Dw8y",
        "colab": {
          "base_uri": "https://localhost:8080/"
        },
        "outputId": "70f8a143-2d4b-4129-8c84-f2f7067b1175"
      },
      "execution_count": null,
      "outputs": [
        {
          "output_type": "execute_result",
          "data": {
            "text/plain": [
              "{'a': 'some value', 'b': [1, 2, 3, 4], 7: 'an integer'}"
            ]
          },
          "metadata": {},
          "execution_count": 3
        }
      ]
    },
    {
      "cell_type": "code",
      "source": [
        "list(d1.keys())\n",
        "list(d1.values())"
      ],
      "metadata": {
        "id": "vfrKREfVDw-s",
        "colab": {
          "base_uri": "https://localhost:8080/"
        },
        "outputId": "070991e4-f3c9-4ad0-c566-b0ad3874e571"
      },
      "execution_count": null,
      "outputs": [
        {
          "output_type": "execute_result",
          "data": {
            "text/plain": [
              "['some value', [1, 2, 3, 4], 'an integer']"
            ]
          },
          "metadata": {},
          "execution_count": 5
        }
      ]
    },
    {
      "cell_type": "code",
      "source": [
        "d1.update({'b':'foo','c':12})"
      ],
      "metadata": {
        "id": "E00Zs1ypDxA9"
      },
      "execution_count": null,
      "outputs": []
    },
    {
      "cell_type": "code",
      "source": [
        "d1"
      ],
      "metadata": {
        "id": "8EjBtUEZDxDA",
        "colab": {
          "base_uri": "https://localhost:8080/"
        },
        "outputId": "71c7ea48-5443-4226-81f0-e504b4e7b324"
      },
      "execution_count": null,
      "outputs": [
        {
          "output_type": "execute_result",
          "data": {
            "text/plain": [
              "{'a': 'some value', 'b': 'foo', 7: 'an integer', 'c': 12}"
            ]
          },
          "metadata": {},
          "execution_count": 7
        }
      ]
    },
    {
      "cell_type": "markdown",
      "source": [
        "# 순차 자료형"
      ],
      "metadata": {
        "id": "BGXSiM4UiLMA"
      }
    },
    {
      "cell_type": "code",
      "source": [
        "mapping = dict(zip(range(5),reversed(range(5))))\n",
        "\n",
        "mapping"
      ],
      "metadata": {
        "id": "QSiyDB6lDxE9",
        "colab": {
          "base_uri": "https://localhost:8080/"
        },
        "outputId": "14c495fc-a414-4fc9-c531-c7bcc1a0d8f1"
      },
      "execution_count": null,
      "outputs": [
        {
          "output_type": "execute_result",
          "data": {
            "text/plain": [
              "{0: 4, 1: 3, 2: 2, 3: 1, 4: 0}"
            ]
          },
          "metadata": {},
          "execution_count": 10
        }
      ]
    },
    {
      "cell_type": "code",
      "source": [
        "words = ['apple','bat','bar','atom','book']"
      ],
      "metadata": {
        "id": "eNb_ljK0DxHG"
      },
      "execution_count": null,
      "outputs": []
    },
    {
      "cell_type": "code",
      "source": [
        "by_letter = {}\n",
        "\n",
        "for word in words:\n",
        "    letter = word[0]\n",
        "    if letter not in by_letter:\n",
        "        by_letter[letter] = [word]\n",
        "    else:\n",
        "        by_letter[letter].append(word)\n",
        "\n",
        "by_letter"
      ],
      "metadata": {
        "id": "9OEPLWc9DxJS",
        "colab": {
          "base_uri": "https://localhost:8080/"
        },
        "outputId": "81fe2c55-4cfc-4c7f-d1b1-9d489cfd3e9b"
      },
      "execution_count": null,
      "outputs": [
        {
          "output_type": "execute_result",
          "data": {
            "text/plain": [
              "{'a': ['apple', 'atom'], 'b': ['bat', 'bar', 'book']}"
            ]
          },
          "metadata": {},
          "execution_count": 12
        }
      ]
    },
    {
      "cell_type": "code",
      "source": [
        "d = {}\n",
        "d[tuple([1,2,3])] =5\n",
        "d"
      ],
      "metadata": {
        "id": "G6gWxshqDxLK",
        "colab": {
          "base_uri": "https://localhost:8080/"
        },
        "outputId": "83bb812d-9053-4b0e-f51c-127a345b481b"
      },
      "execution_count": null,
      "outputs": [
        {
          "output_type": "execute_result",
          "data": {
            "text/plain": [
              "{(1, 2, 3): 5}"
            ]
          },
          "metadata": {},
          "execution_count": 14
        }
      ]
    },
    {
      "cell_type": "code",
      "source": [
        "set([2,2,2,1,3,3])"
      ],
      "metadata": {
        "colab": {
          "base_uri": "https://localhost:8080/"
        },
        "id": "p0t1SFn7qkuO",
        "outputId": "498d285a-960d-4eb8-a9ce-e819e68eecfa"
      },
      "execution_count": null,
      "outputs": [
        {
          "output_type": "execute_result",
          "data": {
            "text/plain": [
              "{1, 2, 3}"
            ]
          },
          "metadata": {},
          "execution_count": 15
        }
      ]
    },
    {
      "cell_type": "code",
      "source": [
        "a = {1,2,3,4,5}\n",
        "b = {3,4,5,6,7,8}\n",
        "\n",
        "a.union(b)\n",
        "a | b"
      ],
      "metadata": {
        "colab": {
          "base_uri": "https://localhost:8080/"
        },
        "id": "0SxTeWgTqksS",
        "outputId": "e2976a2c-ae41-42c8-c064-b9ad83a0a5ed"
      },
      "execution_count": null,
      "outputs": [
        {
          "output_type": "execute_result",
          "data": {
            "text/plain": [
              "{1, 2, 3, 4, 5, 6, 7, 8}"
            ]
          },
          "metadata": {},
          "execution_count": 16
        }
      ]
    },
    {
      "cell_type": "code",
      "source": [
        "a.intersection(b)\n",
        "\n",
        "a & b"
      ],
      "metadata": {
        "colab": {
          "base_uri": "https://localhost:8080/"
        },
        "id": "PwovKlOGqkqY",
        "outputId": "db4bc561-a4d8-480a-b7b4-ab6e152ecc0a"
      },
      "execution_count": null,
      "outputs": [
        {
          "output_type": "execute_result",
          "data": {
            "text/plain": [
              "{3, 4, 5}"
            ]
          },
          "metadata": {},
          "execution_count": 17
        }
      ]
    },
    {
      "cell_type": "markdown",
      "source": [
        "## 중첩된 리스트 표기법"
      ],
      "metadata": {
        "id": "zpr_7pzf_S1C"
      }
    },
    {
      "cell_type": "code",
      "source": [
        "all_data = [['John','Emily','Michael','Mary','Steven',],['Maria','Juan','Javier','Natalia','Pilar']]\n",
        "\n",
        "all_data"
      ],
      "metadata": {
        "colab": {
          "base_uri": "https://localhost:8080/"
        },
        "id": "KoeX9JVO_cMQ",
        "outputId": "5016d172-f044-481e-c5fc-2149a23c8fd2"
      },
      "execution_count": null,
      "outputs": [
        {
          "output_type": "execute_result",
          "data": {
            "text/plain": [
              "[['John', 'Emily', 'Michael', 'Mary', 'Steven'],\n",
              " ['Maria', 'Juan', 'Javier', 'Natalia', 'Pilar']]"
            ]
          },
          "metadata": {},
          "execution_count": 20
        }
      ]
    },
    {
      "cell_type": "code",
      "source": [
        "result = [name for names in all_data for name in names\n",
        "          if name.count('e') >=2 ]\n",
        "\n",
        "result"
      ],
      "metadata": {
        "colab": {
          "base_uri": "https://localhost:8080/"
        },
        "id": "Z56x4jvBqkoO",
        "outputId": "64a99940-2090-41ef-9d46-fc7042b513ae"
      },
      "execution_count": null,
      "outputs": [
        {
          "output_type": "execute_result",
          "data": {
            "text/plain": [
              "['Steven']"
            ]
          },
          "metadata": {},
          "execution_count": 21
        }
      ]
    },
    {
      "cell_type": "code",
      "source": [
        "some_tuples = [(1,2,3),(4,5,6),(7,8,9)]\n",
        "\n",
        "flattend = [x for tup in some_tuples for x in tup]\n",
        "\n",
        "flattend"
      ],
      "metadata": {
        "colab": {
          "base_uri": "https://localhost:8080/"
        },
        "id": "C15Y28KVqkmW",
        "outputId": "b4e62627-4732-4255-b4cf-3fdaf9917996"
      },
      "execution_count": null,
      "outputs": [
        {
          "output_type": "execute_result",
          "data": {
            "text/plain": [
              "[1, 2, 3, 4, 5, 6, 7, 8, 9]"
            ]
          },
          "metadata": {},
          "execution_count": 23
        }
      ]
    },
    {
      "cell_type": "markdown",
      "source": [
        "3.2.4 익명함수"
      ],
      "metadata": {
        "id": "V59bFhaI1rLQ"
      }
    },
    {
      "cell_type": "code",
      "source": [
        "strings = ['foo', 'card', ' bar', 'aaaa','abab']"
      ],
      "metadata": {
        "id": "vwsfSj0b1h6Z"
      },
      "execution_count": 1,
      "outputs": []
    },
    {
      "cell_type": "code",
      "source": [
        "strings.sort(key=lambda x : len(set(list(x))))\n",
        "\n",
        "strings"
      ],
      "metadata": {
        "colab": {
          "base_uri": "https://localhost:8080/"
        },
        "id": "JhaetAlM1h4C",
        "outputId": "b705b596-3072-4c61-8516-7fcc5e42a929"
      },
      "execution_count": 2,
      "outputs": [
        {
          "output_type": "execute_result",
          "data": {
            "text/plain": [
              "['aaaa', 'foo', 'abab', 'card', ' bar']"
            ]
          },
          "metadata": {},
          "execution_count": 2
        }
      ]
    },
    {
      "cell_type": "markdown",
      "source": [
        "#3.2.5 커링 : 일부 인자만 취하기"
      ],
      "metadata": {
        "id": "oJv8_sLv2CMW"
      }
    },
    {
      "cell_type": "code",
      "source": [
        "def add_numbers(x,y):\n",
        "    return x + y"
      ],
      "metadata": {
        "id": "8-VKU4X-2biG"
      },
      "execution_count": 6,
      "outputs": []
    },
    {
      "cell_type": "code",
      "source": [
        "add_five = lambda y: add_numbers(5,y)"
      ],
      "metadata": {
        "id": "WNvZ_zNQ1h13"
      },
      "execution_count": 7,
      "outputs": []
    },
    {
      "cell_type": "code",
      "source": [
        "from functools import partial\n",
        "\n",
        "add_five = partial(add_numbers,5)\n",
        "\n",
        "add_five"
      ],
      "metadata": {
        "colab": {
          "base_uri": "https://localhost:8080/"
        },
        "id": "DqCPrOLF1hzu",
        "outputId": "04fe9935-d74b-4bc8-d027-56b4921ea816"
      },
      "execution_count": 10,
      "outputs": [
        {
          "output_type": "execute_result",
          "data": {
            "text/plain": [
              "functools.partial(<function add_numbers at 0x7a4aba593910>, 5)"
            ]
          },
          "metadata": {},
          "execution_count": 10
        }
      ]
    },
    {
      "cell_type": "markdown",
      "source": [
        "# 3.2.6 제너레이터"
      ],
      "metadata": {
        "id": "sZekzez52lX4"
      }
    },
    {
      "cell_type": "code",
      "source": [
        "some_dict = {'a':1,'b':2,'c':3}\n",
        "\n",
        "for key in some_dict:\n",
        "    print(key)"
      ],
      "metadata": {
        "colab": {
          "base_uri": "https://localhost:8080/"
        },
        "id": "Fua0DXpA1hxn",
        "outputId": "d9d2ce1f-329d-44f9-ad2c-164dee5af090"
      },
      "execution_count": 11,
      "outputs": [
        {
          "output_type": "stream",
          "name": "stdout",
          "text": [
            "a\n",
            "b\n",
            "c\n"
          ]
        }
      ]
    },
    {
      "cell_type": "code",
      "source": [
        "dict_iterator = iter(some_dict)"
      ],
      "metadata": {
        "id": "EHenpKXU1hve"
      },
      "execution_count": 13,
      "outputs": []
    },
    {
      "cell_type": "code",
      "source": [
        "list(dict_iterator)"
      ],
      "metadata": {
        "colab": {
          "base_uri": "https://localhost:8080/"
        },
        "id": "hEcKRcXf1htm",
        "outputId": "20e025f0-8594-466a-d2f1-6ce9d0ea82cc"
      },
      "execution_count": 15,
      "outputs": [
        {
          "output_type": "execute_result",
          "data": {
            "text/plain": [
              "['a', 'b', 'c']"
            ]
          },
          "metadata": {},
          "execution_count": 15
        }
      ]
    },
    {
      "cell_type": "code",
      "source": [
        "def squares(n=10):\n",
        "    print('Generating squares from 1 to {0}'.format(n **2))\n",
        "    for i in range(1,n+1):\n",
        "        yield i **2"
      ],
      "metadata": {
        "id": "rhBq1WkW1hrW"
      },
      "execution_count": 16,
      "outputs": []
    },
    {
      "cell_type": "code",
      "source": [
        "gen = squares()\n",
        "\n",
        "gen"
      ],
      "metadata": {
        "colab": {
          "base_uri": "https://localhost:8080/"
        },
        "id": "BWWuB_Uo1hpX",
        "outputId": "03de3f95-fa67-4ab3-aa2e-3bbbc6aabcd4"
      },
      "execution_count": 17,
      "outputs": [
        {
          "output_type": "execute_result",
          "data": {
            "text/plain": [
              "<generator object squares at 0x7a4aba325ee0>"
            ]
          },
          "metadata": {},
          "execution_count": 17
        }
      ]
    },
    {
      "cell_type": "code",
      "source": [
        "for x in gen:\n",
        "    print(x,end=' ')"
      ],
      "metadata": {
        "colab": {
          "base_uri": "https://localhost:8080/"
        },
        "id": "S1stCnJe1hnX",
        "outputId": "4b456847-1cba-4337-e734-7d3c972cd3ae"
      },
      "execution_count": 18,
      "outputs": [
        {
          "output_type": "stream",
          "name": "stdout",
          "text": [
            "Generating squares from 1 to 100\n",
            "1 4 9 16 25 36 49 64 81 100 "
          ]
        }
      ]
    },
    {
      "cell_type": "markdown",
      "source": [
        "### 제너레이터 표현식"
      ],
      "metadata": {
        "id": "n7lcE2rV5KkY"
      }
    },
    {
      "cell_type": "code",
      "source": [
        "gen = (x **2 for x in range(100))\n",
        "\n",
        "gen"
      ],
      "metadata": {
        "id": "7-mrTaVcqkkX",
        "colab": {
          "base_uri": "https://localhost:8080/"
        },
        "outputId": "aed1f7b9-3773-4609-896b-0d4e447d990f"
      },
      "execution_count": 19,
      "outputs": [
        {
          "output_type": "execute_result",
          "data": {
            "text/plain": [
              "<generator object <genexpr> at 0x7a4aba325d20>"
            ]
          },
          "metadata": {},
          "execution_count": 19
        }
      ]
    },
    {
      "cell_type": "code",
      "source": [
        "def _make_gen():\n",
        "    for x in range(100):\n",
        "        yield x**2\n",
        "gen = _make_gen()"
      ],
      "metadata": {
        "id": "ZBAwpoPTqkie"
      },
      "execution_count": 20,
      "outputs": []
    },
    {
      "cell_type": "code",
      "source": [
        "sum(x ** 2 for x in range(100))"
      ],
      "metadata": {
        "colab": {
          "base_uri": "https://localhost:8080/"
        },
        "id": "SOh0mnwu5RaF",
        "outputId": "db921836-d94d-433f-ecbb-9ad5dd3080bd"
      },
      "execution_count": 21,
      "outputs": [
        {
          "output_type": "execute_result",
          "data": {
            "text/plain": [
              "328350"
            ]
          },
          "metadata": {},
          "execution_count": 21
        }
      ]
    },
    {
      "cell_type": "code",
      "source": [
        "dict((i,i**2) for i in range(5))"
      ],
      "metadata": {
        "colab": {
          "base_uri": "https://localhost:8080/"
        },
        "id": "GsuwAgYr5RYJ",
        "outputId": "9e84e0a3-a1d6-43f6-bd2b-2586fdfe7b18"
      },
      "execution_count": 23,
      "outputs": [
        {
          "output_type": "execute_result",
          "data": {
            "text/plain": [
              "{0: 0, 1: 1, 2: 4, 3: 9, 4: 16}"
            ]
          },
          "metadata": {},
          "execution_count": 23
        }
      ]
    },
    {
      "cell_type": "code",
      "source": [
        "import itertools\n",
        "\n",
        "first_letter = lambda x: x[0]"
      ],
      "metadata": {
        "id": "C55VRGRA5RWF"
      },
      "execution_count": 24,
      "outputs": []
    },
    {
      "cell_type": "code",
      "source": [
        "def attempt_float(x):\n",
        "    try:\n",
        "        return float(x)\n",
        "    except:\n",
        "        return x"
      ],
      "metadata": {
        "id": "csmpqYG05RT_"
      },
      "execution_count": 25,
      "outputs": []
    },
    {
      "cell_type": "code",
      "source": [
        "attempt_float('something')"
      ],
      "metadata": {
        "colab": {
          "base_uri": "https://localhost:8080/",
          "height": 35
        },
        "id": "1ohsSaJ25RR4",
        "outputId": "451dd067-6a27-467c-925b-eba092c8bdc5"
      },
      "execution_count": 27,
      "outputs": [
        {
          "output_type": "execute_result",
          "data": {
            "text/plain": [
              "'something'"
            ],
            "application/vnd.google.colaboratory.intrinsic+json": {
              "type": "string"
            }
          },
          "metadata": {},
          "execution_count": 27
        }
      ]
    },
    {
      "cell_type": "code",
      "source": [],
      "metadata": {
        "id": "XbUkILAB5RP1"
      },
      "execution_count": null,
      "outputs": []
    },
    {
      "cell_type": "markdown",
      "source": [],
      "metadata": {
        "id": "POVNuHzq7Pah"
      }
    },
    {
      "cell_type": "code",
      "source": [],
      "metadata": {
        "id": "LDkISCBR5RN1"
      },
      "execution_count": null,
      "outputs": []
    },
    {
      "cell_type": "code",
      "source": [],
      "metadata": {
        "id": "10-n6Ou95RL2"
      },
      "execution_count": null,
      "outputs": []
    },
    {
      "cell_type": "code",
      "source": [],
      "metadata": {
        "id": "FUYqpTLT5RJ1"
      },
      "execution_count": null,
      "outputs": []
    },
    {
      "cell_type": "code",
      "source": [],
      "metadata": {
        "id": "DCSDB4Rm5RF1"
      },
      "execution_count": null,
      "outputs": []
    },
    {
      "cell_type": "code",
      "source": [],
      "metadata": {
        "id": "9TSASl9Uqkgf"
      },
      "execution_count": null,
      "outputs": []
    }
  ]
}